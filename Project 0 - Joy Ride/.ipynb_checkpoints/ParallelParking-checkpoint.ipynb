{
 "cells": [
  {
   "cell_type": "markdown",
   "metadata": {},
   "source": [
    "## Joy Ride - Part 3: Parallel Parking¶"
   ]
  },
  {
   "cell_type": "markdown",
   "metadata": {},
   "source": [
    "In this section you will write a function that implements the correct sequence of steps required to parallel park a vehicle.\n",
    "\n",
    "Note for this segment the vehicle's maximum speed has been set to just over 4 mph. This should make parking a little easier."
   ]
  },
  {
   "cell_type": "code",
   "execution_count": 2,
   "metadata": {},
   "outputs": [
    {
     "data": {
      "text/html": [
       "<link rel=\"stylesheet\" type=\"text/css\" href=\"buttonStyle.css\">\n",
       "<button id=\"launcher\">Launch Car Simulator</button>\n",
       "<button id=\"restart\">Restart Connection</button>\n",
       "<script src=\"setupLauncher.js\"></script>\n",
       "<script src=\"kernelRestart.js\"></script>\n"
      ],
      "text/plain": [
       "<IPython.core.display.HTML object>"
      ]
     },
     "metadata": {},
     "output_type": "display_data"
    }
   ],
   "source": [
    "%%HTML\n",
    "<link rel=\"stylesheet\" type=\"text/css\" href=\"buttonStyle.css\">\n",
    "<button id=\"launcher\">Launch Car Simulator</button>\n",
    "<button id=\"restart\">Restart Connection</button>\n",
    "<script src=\"setupLauncher.js\"></script>\n",
    "<script src=\"kernelRestart.js\"></script>"
   ]
  },
  {
   "cell_type": "code",
   "execution_count": null,
   "metadata": {},
   "outputs": [
    {
     "data": {
      "application/javascript": [
       "window.simulatorWindow.postMessage(\"steer:1.0\", \"*\");"
      ]
     },
     "metadata": {},
     "output_type": "display_data"
    },
    {
     "data": {
      "application/javascript": [
       "window.simulatorWindow.postMessage(\"throttle:-0.5\", \"*\");"
      ]
     },
     "metadata": {},
     "output_type": "display_data"
    },
    {
     "data": {
      "application/javascript": [
       "window.simulatorWindow.postMessage(\"steer:-1.0\", \"*\");"
      ]
     },
     "metadata": {},
     "output_type": "display_data"
    },
    {
     "data": {
      "application/javascript": [
       "window.simulatorWindow.postMessage(\"throttle:-0.5\", \"*\");"
      ]
     },
     "metadata": {},
     "output_type": "display_data"
    },
    {
     "data": {
      "application/javascript": [
       "window.simulatorWindow.postMessage(\"steer:0.0\", \"*\");"
      ]
     },
     "metadata": {},
     "output_type": "display_data"
    },
    {
     "data": {
      "application/javascript": [
       "window.simulatorWindow.postMessage(\"throttle:0.1\", \"*\");"
      ]
     },
     "metadata": {},
     "output_type": "display_data"
    },
    {
     "data": {
      "application/javascript": [
       "window.simulatorWindow.postMessage(\"steer:0.0\", \"*\");"
      ]
     },
     "metadata": {},
     "output_type": "display_data"
    },
    {
     "data": {
      "application/javascript": [
       "window.simulatorWindow.postMessage(\"throttle:-0.02\", \"*\");"
      ]
     },
     "metadata": {},
     "output_type": "display_data"
    },
    {
     "data": {
      "application/javascript": [
       "window.simulatorWindow.postMessage(\"steer:0.0\", \"*\");"
      ]
     },
     "metadata": {},
     "output_type": "display_data"
    },
    {
     "data": {
      "application/javascript": [
       "window.simulatorWindow.postMessage(\"throttle:2e-09\", \"*\");"
      ]
     },
     "metadata": {},
     "output_type": "display_data"
    }
   ],
   "source": [
    "from Car import Car\n",
    "import time\n",
    "\n",
    "def park(car):\n",
    "    # TODO: Fix this function!\n",
    "    #  currently it just drives back and forth\n",
    "    #  Note that the allowed steering angles are\n",
    "    #  between -25.0 and 25.0 degrees and the \n",
    "    #  allowed values for gas are between -1.0 and 1.0\n",
    "    \n",
    "    #  back up with 25.0 right angles for 3.1 seconds\n",
    "    car.steer(25.0)\n",
    "    car.gas(-0.5)\n",
    "    time.sleep(2.9) # note how time.sleep works\n",
    "    \n",
    "    # back up for 2.7 seconds to keep the car parall  park \n",
    "    car.steer(-25.0)\n",
    "    car.gas(-0.5)\n",
    "    time.sleep(2.6) \n",
    "    \n",
    "    \n",
    "    # slow down the speed \n",
    "    car.steer(0.0)\n",
    "    car.gas(0.1)\n",
    "    time.sleep(1.8)\n",
    "    \n",
    "    car.steer(0.0)\n",
    "    car.gas(-0.02)\n",
    "    time.sleep(1.5)\n",
    "    \n",
    "    # stop the car \n",
    "    car.steer(0.0)\n",
    "    car.gas(0.000000002)\n",
    "    time.sleep(600.0)\n",
    "    \n",
    "    \n",
    "\n",
    "car = Car()\n",
    "park(car)"
   ]
  },
  {
   "cell_type": "code",
   "execution_count": null,
   "metadata": {},
   "outputs": [],
   "source": []
  }
 ],
 "metadata": {
  "kernelspec": {
   "display_name": "TF2",
   "language": "python",
   "name": "tf2"
  },
  "language_info": {
   "codemirror_mode": {
    "name": "ipython",
    "version": 3
   },
   "file_extension": ".py",
   "mimetype": "text/x-python",
   "name": "python",
   "nbconvert_exporter": "python",
   "pygments_lexer": "ipython3",
   "version": "3.7.5"
  }
 },
 "nbformat": 4,
 "nbformat_minor": 2
}

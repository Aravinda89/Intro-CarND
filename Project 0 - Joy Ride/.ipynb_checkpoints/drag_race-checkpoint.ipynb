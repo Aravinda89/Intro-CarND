{
 "cells": [
  {
   "cell_type": "code",
   "execution_count": 7,
   "metadata": {},
   "outputs": [
    {
     "data": {
      "text/html": [
       "<button id=\"launcher\">Launch Car Simulator</button>\n",
       "<script src=\"setupLauncher.js\"></script>\n"
      ],
      "text/plain": [
       "<IPython.core.display.HTML object>"
      ]
     },
     "metadata": {},
     "output_type": "display_data"
    }
   ],
   "source": [
    "%%HTML\n",
    "<button id=\"launcher\">Launch Car Simulator</button>\n",
    "<script src=\"setupLauncher.js\"></script>"
   ]
  },
  {
   "cell_type": "code",
   "execution_count": 8,
   "metadata": {},
   "outputs": [
    {
     "data": {
      "application/javascript": [
       "window.simulatorWindow.postMessage(\"steer:0.0\", \"*\");"
      ]
     },
     "metadata": {},
     "output_type": "display_data"
    },
    {
     "data": {
      "application/javascript": [
       "window.simulatorWindow.postMessage(\"throttle:0.8\", \"*\");"
      ]
     },
     "metadata": {},
     "output_type": "display_data"
    }
   ],
   "source": [
    "# CODE CELL\n",
    "# \n",
    "# This is the code you should \n",
    "# edit and run to control the car.\n",
    "\n",
    "from Car import Car # you don't need to change this line of code...\n",
    "\n",
    "def jump(car):\n",
    "    # TODO - make modifications in this function\n",
    "    #   so that your car makes it safely over the trees.\n",
    "    \n",
    "    car.steer(0.0) # any value between -25 and 25 works here for\n",
    "                   # steering angle (in degrees)\n",
    "        \n",
    "    car.gas(0.8)   # any value between -1.0 (full reverse) and \n",
    "                   # 1.0 (full throttle) works here\n",
    "\n",
    "car = Car()  \n",
    "jump(car)"
   ]
  },
  {
   "cell_type": "code",
   "execution_count": null,
   "metadata": {},
   "outputs": [],
   "source": []
  }
 ],
 "metadata": {
  "kernelspec": {
   "display_name": "TF2",
   "language": "python",
   "name": "tf2"
  },
  "language_info": {
   "codemirror_mode": {
    "name": "ipython",
    "version": 3
   },
   "file_extension": ".py",
   "mimetype": "text/x-python",
   "name": "python",
   "nbconvert_exporter": "python",
   "pygments_lexer": "ipython3",
   "version": "3.7.5"
  }
 },
 "nbformat": 4,
 "nbformat_minor": 2
}
